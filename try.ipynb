{
 "cells": [
  {
   "cell_type": "code",
   "execution_count": 1,
   "metadata": {},
   "outputs": [],
   "source": [
    "import pandas  as pd\n",
    "import numpy as np\n",
    "import seaborn as sns\n",
    "import matplotlib.pyplot as plt"
   ]
  },
  {
   "cell_type": "code",
   "execution_count": 2,
   "metadata": {},
   "outputs": [
    {
     "name": "stderr",
     "output_type": "stream",
     "text": [
      "/var/folders/xg/5p4xxrrj0j72hsmzz42f5_mh0000gp/T/ipykernel_6235/3282939397.py:1: DtypeWarning: Columns (9) have mixed types. Specify dtype option on import or set low_memory=False.\n",
      "  btc = pd.read_csv(\"/Users/victorramos/documents/ironhack/Proyectos Ironhack/Project 4/data/btc.csv\")\n"
     ]
    }
   ],
   "source": [
    "btc = pd.read_csv(\"/Users/victorramos/documents/ironhack/Proyectos Ironhack/Project 4/data/btc.csv\")"
   ]
  },
  {
   "cell_type": "code",
   "execution_count": null,
   "metadata": {},
   "outputs": [],
   "source": []
  }
 ],
 "metadata": {
  "kernelspec": {
   "display_name": "ironhack",
   "language": "python",
   "name": "python3"
  },
  "language_info": {
   "codemirror_mode": {
    "name": "ipython",
    "version": 3
   },
   "file_extension": ".py",
   "mimetype": "text/x-python",
   "name": "python",
   "nbconvert_exporter": "python",
   "pygments_lexer": "ipython3",
   "version": "3.9.12"
  },
  "orig_nbformat": 4,
  "vscode": {
   "interpreter": {
    "hash": "2a1c6cc0e575e53df702ef0d39cf984f93bf1844fc948c2624455db9fc96d405"
   }
  }
 },
 "nbformat": 4,
 "nbformat_minor": 2
}
